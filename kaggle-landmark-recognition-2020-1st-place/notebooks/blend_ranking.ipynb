{
 "cells": [
  {
   "cell_type": "code",
   "execution_count": 1,
   "metadata": {},
   "outputs": [
    {
     "name": "stdout",
     "output_type": "stream",
     "text": [
      "albumentations==0.4.6\n",
      "timm==0.2.1\n",
      "numpy==1.19.1\n",
      "opencv_python_headless==4.4.0.44\n",
      "pytorch_lightning==0.9.0\n",
      "torch==1.6.0\n",
      "transformers==3.3.1\n",
      "scipy==1.5.2\n",
      "pandas==1.1.2\n",
      "apex==0.9.10dev\n",
      "scikit_learn==0.23.2\n"
     ]
    }
   ],
   "source": [
    "!cat ../requirements.txt"
   ]
  },
  {
   "cell_type": "code",
   "execution_count": 2,
   "metadata": {},
   "outputs": [
    {
     "name": "stdout",
     "output_type": "stream",
     "text": [
      "Overwriting requirements2.txt\n"
     ]
    }
   ],
   "source": [
    "%%writefile requirements2.txt\n",
    "albumentations\n",
    "timm\n",
    "numpy\n",
    "opencv_python_headless\n",
    "pytorch_lightning\n",
    "torch\n",
    "transformers\n",
    "scipy\n",
    "pandas\n",
    "apex\n",
    "scikit_learn\n",
    "seaborn"
   ]
  },
  {
   "cell_type": "code",
   "execution_count": 3,
   "metadata": {},
   "outputs": [],
   "source": [
    "!pip freeze > requirements3.txt"
   ]
  },
  {
   "cell_type": "code",
   "execution_count": 4,
   "metadata": {},
   "outputs": [
    {
     "name": "stdout",
     "output_type": "stream",
     "text": [
      "Using config file config1\n"
     ]
    }
   ],
   "source": [
    "import sys\n",
    "import importlib\n",
    "from types import SimpleNamespace\n",
    "import matplotlib.pyplot as plt\n",
    "from tqdm.notebook import tqdm\n",
    "from scipy.special import softmax\n",
    "from joblib import Parallel, delayed\n",
    "import seaborn as sns\n",
    "import scipy as sp\n",
    "\n",
    "import warnings\n",
    "warnings.filterwarnings(\"ignore\")\n",
    "\n",
    "sys.path.append(\"../src\")\n",
    "sys.path.append(\"../configs\")\n",
    "\n",
    "sys.argv = ['--config', 'config1']\n",
    "\n",
    "from models import *\n",
    "from loss import *\n",
    "from train import *\n",
    "from data import *"
   ]
  },
  {
   "cell_type": "code",
   "execution_count": 5,
   "metadata": {},
   "outputs": [],
   "source": [
    "def cos_similarity_matrix(a, b, eps=1e-8):\n",
    "    a_n, b_n = a.norm(dim=1)[:, None], b.norm(dim=1)[:, None]\n",
    "    a_norm = a / torch.max(a_n, eps * torch.ones_like(a_n))\n",
    "    b_norm = b / torch.max(b_n, eps * torch.ones_like(b_n))\n",
    "    sim_mt = torch.mm(a_norm, b_norm.transpose(0, 1))\n",
    "    return sim_mt\n",
    "\n",
    "def get_topk_cossim(test_emb, tr_emb, batchsize = 64, k=10, device='cuda:0',verbose=True):\n",
    "    tr_emb = torch.tensor(tr_emb, dtype = torch.float32, device=torch.device(device))\n",
    "    test_emb = torch.tensor(test_emb, dtype = torch.float32, device=torch.device(device))\n",
    "    vals = []\n",
    "    inds = []\n",
    "    for test_batch in tqdm(test_emb.split(batchsize),disable=1-verbose):\n",
    "        sim_mat = cos_similarity_matrix(test_batch, tr_emb)\n",
    "        vals_batch, inds_batch = torch.topk(sim_mat, k=k, dim=1)\n",
    "        vals += [vals_batch.detach().cpu()]\n",
    "        inds += [inds_batch.detach().cpu()]\n",
    "    vals = torch.cat(vals)\n",
    "    inds = torch.cat(inds)\n",
    "    return vals, inds\n",
    "\n",
    "def get_topk_cossim_sub(test_emb, tr_emb, vals_x, batchsize = 64, k=10, device='cuda:0',verbose=True):\n",
    "    tr_emb = torch.tensor(tr_emb, dtype = torch.float32, device=torch.device(device))\n",
    "    test_emb = torch.tensor(test_emb, dtype = torch.float32, device=torch.device(device))\n",
    "    vals_x = torch.tensor(vals_x, dtype = torch.float32, device=torch.device(device))\n",
    "    vals = []\n",
    "    inds = []\n",
    "    for test_batch in tqdm(test_emb.split(batchsize),disable=1-verbose):\n",
    "        sim_mat = cos_similarity_matrix(test_batch, tr_emb)\n",
    "        sim_mat = torch.clamp(sim_mat,0,1) - vals_x.repeat(sim_mat.shape[0], 1)\n",
    "        \n",
    "        vals_batch, inds_batch = torch.topk(sim_mat, k=k, dim=1)\n",
    "        vals += [vals_batch.detach().cpu()]\n",
    "        inds += [inds_batch.detach().cpu()]\n",
    "    vals = torch.cat(vals)\n",
    "    inds = torch.cat(inds)\n",
    "    return vals, inds"
   ]
  },
  {
   "cell_type": "code",
   "execution_count": 6,
   "metadata": {},
   "outputs": [],
   "source": [
    "# pick your models\n",
    "models = [\"config1\"]  #, \"config2\", \"config3\", \"config4\", \"config5\"]"
   ]
  },
  {
   "cell_type": "code",
   "execution_count": 7,
   "metadata": {},
   "outputs": [
    {
     "name": "stdout",
     "output_type": "stream",
     "text": [
      "/home/studio-lab-user/landmark/kaggle-landmark-recognition-2020-1st-place/notebooks\n"
     ]
    }
   ],
   "source": [
    "!pwd"
   ]
  },
  {
   "cell_type": "code",
   "execution_count": 8,
   "metadata": {},
   "outputs": [
    {
     "name": "stdout",
     "output_type": "stream",
     "text": [
      "total 36316\n",
      "-rw-r--r-- 1 studio-lab-user users 28580742 Feb 14 12:43 out_tr_filter.p\n",
      "-rw-r--r-- 1 studio-lab-user users  8603768 Feb 14 12:43 out_val.p\n"
     ]
    }
   ],
   "source": [
    "!ls -l ../blend/config1"
   ]
  },
  {
   "cell_type": "code",
   "execution_count": 9,
   "metadata": {},
   "outputs": [],
   "source": [
    "from sklearn.preprocessing import normalize\n",
    "\n",
    "tr_embeddings = []\n",
    "val_embeddings = []\n",
    "nonlandmark_embeddings = []\n",
    "targets = []\n",
    "targets_train = []\n",
    "\n",
    "for m in models:\n",
    "    with open(f\"../blend/{m}/out_val.p\", 'rb') as f:\n",
    "        out_val = pickle.load(f)\n",
    "    with open(f\"../blend/{m}/out_tr_filter.p\", 'rb') as f:\n",
    "        out_tr_filter = pickle.load(f)\n",
    "\n",
    "    uniques = np.unique(out_val[\"idx\"], return_index=True)[1]\n",
    "    for k,v in out_val.items():\n",
    "        if k in [\"embeddings\", \"targets\", \"idx\"]:\n",
    "            out_val[k] = v[uniques]\n",
    "            \n",
    "    uniques = np.unique(out_tr_filter[\"idx\"], return_index=True)[1]\n",
    "    for k,v in out_tr_filter.items():\n",
    "        if k in [\"embeddings\", \"targets\", \"idx\"]:\n",
    "            out_tr_filter[k] = v[uniques]\n",
    "\n",
    "    tr_embeddings_x = out_tr_filter[\"embeddings\"][np.argsort(out_tr_filter[\"idx\"])]\n",
    "    targets_train_x = out_tr_filter[\"targets\"][np.argsort(out_tr_filter[\"idx\"])]\n",
    "    \n",
    "    val_embeddings_x = out_val[\"embeddings\"][np.argsort(out_val[\"idx\"])]\n",
    "    targets_x = out_val[\"targets\"][np.argsort(out_val[\"idx\"])]\n",
    "    \n",
    "    tr_embeddings_x = normalize(tr_embeddings_x, norm=\"l2\")\n",
    "    val_embeddings_x = normalize(val_embeddings_x, norm=\"l2\")\n",
    "\n",
    "    nonlandmark_embeddings_x = val_embeddings_x[targets_x==81313]\n",
    "    \n",
    "    tr_embeddings.append(tr_embeddings_x)\n",
    "    val_embeddings.append(val_embeddings_x)\n",
    "    nonlandmark_embeddings.append(nonlandmark_embeddings_x)\n",
    "    targets.append(targets_x)\n",
    "    targets_train.append(targets_train_x)"
   ]
  },
  {
   "cell_type": "code",
   "execution_count": 10,
   "metadata": {},
   "outputs": [
    {
     "data": {
      "text/plain": [
       "13901"
      ]
     },
     "execution_count": 10,
     "metadata": {},
     "output_type": "execute_result"
    }
   ],
   "source": [
    "len(out_tr_filter[\"targets\"])"
   ]
  },
  {
   "cell_type": "code",
   "execution_count": 11,
   "metadata": {},
   "outputs": [],
   "source": [
    "tr_embeddings = np.hstack(tr_embeddings)\n",
    "val_embeddings = np.hstack(val_embeddings)\n",
    "nonlandmark_embeddings = np.hstack(nonlandmark_embeddings)\n",
    "targets = targets[0]\n",
    "targets_train = targets_train[0]"
   ]
  },
  {
   "cell_type": "code",
   "execution_count": 12,
   "metadata": {},
   "outputs": [],
   "source": [
    "# !head -5 ../blend/config1/out_val.p"
   ]
  },
  {
   "cell_type": "code",
   "execution_count": 13,
   "metadata": {},
   "outputs": [],
   "source": [
    "# !head -5 ../blend/config1/out_tr_filter.p"
   ]
  },
  {
   "cell_type": "code",
   "execution_count": 14,
   "metadata": {},
   "outputs": [
    {
     "data": {
      "text/plain": [
       "QuantileTransformer(output_distribution='normal')"
      ]
     },
     "execution_count": 14,
     "metadata": {},
     "output_type": "execute_result"
    }
   ],
   "source": [
    "from sklearn.decomposition import PCA\n",
    "from sklearn.preprocessing import StandardScaler, MinMaxScaler, RobustScaler, QuantileTransformer\n",
    "from sklearn.random_projection import GaussianRandomProjection\n",
    "\n",
    "f = QuantileTransformer(output_distribution=\"normal\")\n",
    "f.fit(np.concatenate([val_embeddings],axis=0))"
   ]
  },
  {
   "cell_type": "code",
   "execution_count": 15,
   "metadata": {},
   "outputs": [],
   "source": [
    "tr_embeddings = f.transform(tr_embeddings)\n",
    "val_embeddings = f.transform(val_embeddings)"
   ]
  },
  {
   "cell_type": "code",
   "execution_count": 16,
   "metadata": {},
   "outputs": [],
   "source": [
    "# nonlandmark_embeddings"
   ]
  },
  {
   "cell_type": "code",
   "execution_count": 17,
   "metadata": {},
   "outputs": [],
   "source": [
    "# nonlandmark_embeddings = f.transform(nonlandmark_embeddings)"
   ]
  },
  {
   "cell_type": "code",
   "execution_count": 18,
   "metadata": {},
   "outputs": [],
   "source": [
    "def get_topk_cossim_sub_modified(test_emb, tr_emb, batchsize = 64, k=10, device='cuda:0',verbose=True):\n",
    "    tr_emb = torch.tensor(tr_emb, dtype = torch.float32, device=torch.device(device))\n",
    "    test_emb = torch.tensor(test_emb, dtype = torch.float32, device=torch.device(device))\n",
    "    # vals_x = torch.tensor(vals_x, dtype = torch.float32, device=torch.device(device))\n",
    "    vals = []\n",
    "    inds = []\n",
    "    for test_batch in tqdm(test_emb.split(batchsize),disable=1-verbose):\n",
    "        sim_mat = cos_similarity_matrix(test_batch, tr_emb)\n",
    "        sim_mat = torch.clamp(sim_mat,0,1)  # [subtraction removed]\n",
    "        \n",
    "        vals_batch, inds_batch = torch.topk(sim_mat, k=k, dim=1)\n",
    "        vals += [vals_batch.detach().cpu()]\n",
    "        inds += [inds_batch.detach().cpu()]\n",
    "    vals = torch.cat(vals)\n",
    "    inds = torch.cat(inds)\n",
    "    return vals, inds"
   ]
  },
  {
   "cell_type": "code",
   "execution_count": 19,
   "metadata": {},
   "outputs": [
    {
     "data": {
      "application/vnd.jupyter.widget-view+json": {
       "model_id": "0039d0da4b9541c9815ee84e6a7b8011",
       "version_major": 2,
       "version_minor": 0
      },
      "text/plain": [
       "  0%|          | 0/65 [00:00<?, ?it/s]"
      ]
     },
     "metadata": {},
     "output_type": "display_data"
    }
   ],
   "source": [
    "# calculate A-B\n",
    "\n",
    "EMB_SIZE = 512\n",
    "vals_blend = []\n",
    "\n",
    "labels_blend = []\n",
    "inds_blend = []\n",
    "for i in range(len(models)):\n",
    "    # Get cosine simlarity between tr_embeddings & nonlandmark_embeddings (not needed)\n",
    "    # vals_nl, inds_nl = get_topk_cossim(tr_embeddings[:,i*EMB_SIZE:(i+1)*EMB_SIZE], nonlandmark_embeddings[:,i*EMB_SIZE:(i+1)*EMB_SIZE], k=5)\n",
    "    # vals_nl = vals_nl[:,:].mean(axis=1).detach().cpu().numpy()\n",
    "    \n",
    "    # val = validation(?)\n",
    "    # Top k cosine similarity, \n",
    "    # The following line still requires vals_nl\n",
    "    vals, inds = get_topk_cossim_sub_modified(val_embeddings[:,i*EMB_SIZE:(i+1)*EMB_SIZE], tr_embeddings[:,i*EMB_SIZE:(i+1)*EMB_SIZE], k=3)\n",
    "    vals = vals.data.cpu().numpy()\n",
    "    inds = inds.data.cpu().numpy()\n",
    "    labels = np.concatenate([targets_train[inds[:,i]].reshape(-1,1) for i in range(inds.shape[1])], axis=1)\n",
    "    \n",
    "    vals_blend.append(vals)\n",
    "    labels_blend.append(labels)\n",
    "    inds_blend.append(inds)"
   ]
  },
  {
   "cell_type": "code",
   "execution_count": 20,
   "metadata": {},
   "outputs": [],
   "source": [
    "vals = np.concatenate(vals_blend, axis=1)\n",
    "inds = np.concatenate(inds_blend, axis=1)\n",
    "labels = np.concatenate(labels_blend, axis=1)"
   ]
  },
  {
   "cell_type": "code",
   "execution_count": 21,
   "metadata": {},
   "outputs": [
    {
     "data": {
      "text/plain": [
       "\u001b[0;31mSignature:\u001b[0m \u001b[0mcomp_metric\u001b[0m\u001b[0;34m(\u001b[0m\u001b[0my_true\u001b[0m\u001b[0;34m,\u001b[0m \u001b[0mlogits\u001b[0m\u001b[0;34m,\u001b[0m \u001b[0mignore_non_landmarks\u001b[0m\u001b[0;34m=\u001b[0m\u001b[0;32mFalse\u001b[0m\u001b[0;34m)\u001b[0m\u001b[0;34m\u001b[0m\u001b[0;34m\u001b[0m\u001b[0m\n",
       "\u001b[0;31mDocstring:\u001b[0m <no docstring>\n",
       "\u001b[0;31mSource:\u001b[0m   \n",
       "\u001b[0;32mdef\u001b[0m \u001b[0mcomp_metric\u001b[0m\u001b[0;34m(\u001b[0m\u001b[0my_true\u001b[0m\u001b[0;34m,\u001b[0m \u001b[0mlogits\u001b[0m\u001b[0;34m,\u001b[0m \u001b[0mignore_non_landmarks\u001b[0m\u001b[0;34m=\u001b[0m\u001b[0;32mFalse\u001b[0m\u001b[0;34m)\u001b[0m\u001b[0;34m:\u001b[0m\u001b[0;34m\u001b[0m\n",
       "\u001b[0;34m\u001b[0m    \u001b[0;34m\u001b[0m\n",
       "\u001b[0;34m\u001b[0m    \u001b[0mscore\u001b[0m \u001b[0;34m=\u001b[0m \u001b[0mglobal_average_precision_score\u001b[0m\u001b[0;34m(\u001b[0m\u001b[0my_true\u001b[0m\u001b[0;34m,\u001b[0m \u001b[0mlogits\u001b[0m\u001b[0;34m,\u001b[0m \u001b[0mignore_non_landmarks\u001b[0m\u001b[0;34m=\u001b[0m\u001b[0mignore_non_landmarks\u001b[0m\u001b[0;34m)\u001b[0m\u001b[0;34m\u001b[0m\n",
       "\u001b[0;34m\u001b[0m    \u001b[0;32mreturn\u001b[0m \u001b[0mscore\u001b[0m\u001b[0;34m\u001b[0m\u001b[0;34m\u001b[0m\u001b[0m\n",
       "\u001b[0;31mFile:\u001b[0m      ~/landmark/kaggle-landmark-recognition-2020-1st-place/src/utils.py\n",
       "\u001b[0;31mType:\u001b[0m      function\n"
      ]
     },
     "metadata": {},
     "output_type": "display_data"
    }
   ],
   "source": [
    "??comp_metric"
   ]
  },
  {
   "cell_type": "code",
   "execution_count": 22,
   "metadata": {},
   "outputs": [
    {
     "data": {
      "text/plain": [
       "\u001b[0;31mSignature:\u001b[0m \u001b[0mglobal_average_precision_score\u001b[0m\u001b[0;34m(\u001b[0m\u001b[0my_true\u001b[0m\u001b[0;34m,\u001b[0m \u001b[0my_pred\u001b[0m\u001b[0;34m,\u001b[0m \u001b[0mignore_non_landmarks\u001b[0m\u001b[0;34m=\u001b[0m\u001b[0;32mFalse\u001b[0m\u001b[0;34m)\u001b[0m\u001b[0;34m\u001b[0m\u001b[0;34m\u001b[0m\u001b[0m\n",
       "\u001b[0;31mDocstring:\u001b[0m <no docstring>\n",
       "\u001b[0;31mSource:\u001b[0m   \n",
       "\u001b[0;32mdef\u001b[0m \u001b[0mglobal_average_precision_score\u001b[0m\u001b[0;34m(\u001b[0m\u001b[0my_true\u001b[0m\u001b[0;34m,\u001b[0m \u001b[0my_pred\u001b[0m\u001b[0;34m,\u001b[0m \u001b[0mignore_non_landmarks\u001b[0m\u001b[0;34m=\u001b[0m\u001b[0;32mFalse\u001b[0m\u001b[0;34m)\u001b[0m\u001b[0;34m:\u001b[0m\u001b[0;34m\u001b[0m\n",
       "\u001b[0;34m\u001b[0m    \u001b[0mindexes\u001b[0m \u001b[0;34m=\u001b[0m \u001b[0mnp\u001b[0m\u001b[0;34m.\u001b[0m\u001b[0margsort\u001b[0m\u001b[0;34m(\u001b[0m\u001b[0my_pred\u001b[0m\u001b[0;34m[\u001b[0m\u001b[0;36m1\u001b[0m\u001b[0;34m]\u001b[0m\u001b[0;34m)\u001b[0m\u001b[0;34m[\u001b[0m\u001b[0;34m:\u001b[0m\u001b[0;34m:\u001b[0m\u001b[0;34m-\u001b[0m\u001b[0;36m1\u001b[0m\u001b[0;34m]\u001b[0m\u001b[0;34m\u001b[0m\n",
       "\u001b[0;34m\u001b[0m    \u001b[0mqueries_with_target\u001b[0m \u001b[0;34m=\u001b[0m \u001b[0;34m(\u001b[0m\u001b[0my_true\u001b[0m \u001b[0;34m<\u001b[0m \u001b[0margs\u001b[0m\u001b[0;34m.\u001b[0m\u001b[0mn_classes\u001b[0m\u001b[0;34m)\u001b[0m\u001b[0;34m.\u001b[0m\u001b[0msum\u001b[0m\u001b[0;34m(\u001b[0m\u001b[0;34m)\u001b[0m\u001b[0;34m\u001b[0m\n",
       "\u001b[0;34m\u001b[0m    \u001b[0mcorrect_predictions\u001b[0m \u001b[0;34m=\u001b[0m \u001b[0;36m0\u001b[0m\u001b[0;34m\u001b[0m\n",
       "\u001b[0;34m\u001b[0m    \u001b[0mtotal_score\u001b[0m \u001b[0;34m=\u001b[0m \u001b[0;36m0.\u001b[0m\u001b[0;34m\u001b[0m\n",
       "\u001b[0;34m\u001b[0m    \u001b[0mi\u001b[0m \u001b[0;34m=\u001b[0m \u001b[0;36m1\u001b[0m\u001b[0;34m\u001b[0m\n",
       "\u001b[0;34m\u001b[0m    \u001b[0;32mfor\u001b[0m \u001b[0mk\u001b[0m \u001b[0;32min\u001b[0m \u001b[0mindexes\u001b[0m\u001b[0;34m:\u001b[0m\u001b[0;34m\u001b[0m\n",
       "\u001b[0;34m\u001b[0m        \u001b[0;32mif\u001b[0m \u001b[0mignore_non_landmarks\u001b[0m \u001b[0;32mand\u001b[0m \u001b[0my_true\u001b[0m\u001b[0;34m[\u001b[0m\u001b[0mk\u001b[0m\u001b[0;34m]\u001b[0m \u001b[0;34m==\u001b[0m \u001b[0margs\u001b[0m\u001b[0;34m.\u001b[0m\u001b[0mn_classes\u001b[0m\u001b[0;34m:\u001b[0m\u001b[0;34m\u001b[0m\n",
       "\u001b[0;34m\u001b[0m            \u001b[0;32mcontinue\u001b[0m\u001b[0;34m\u001b[0m\n",
       "\u001b[0;34m\u001b[0m        \u001b[0;32mif\u001b[0m \u001b[0my_pred\u001b[0m\u001b[0;34m[\u001b[0m\u001b[0;36m0\u001b[0m\u001b[0;34m]\u001b[0m\u001b[0;34m[\u001b[0m\u001b[0mk\u001b[0m\u001b[0;34m]\u001b[0m \u001b[0;34m==\u001b[0m \u001b[0margs\u001b[0m\u001b[0;34m.\u001b[0m\u001b[0mn_classes\u001b[0m\u001b[0;34m:\u001b[0m\u001b[0;34m\u001b[0m\n",
       "\u001b[0;34m\u001b[0m            \u001b[0;32mcontinue\u001b[0m\u001b[0;34m\u001b[0m\n",
       "\u001b[0;34m\u001b[0m        \u001b[0mrelevance_of_prediction_i\u001b[0m \u001b[0;34m=\u001b[0m \u001b[0;36m0\u001b[0m\u001b[0;34m\u001b[0m\n",
       "\u001b[0;34m\u001b[0m        \u001b[0;32mif\u001b[0m \u001b[0my_true\u001b[0m\u001b[0;34m[\u001b[0m\u001b[0mk\u001b[0m\u001b[0;34m]\u001b[0m \u001b[0;34m==\u001b[0m \u001b[0my_pred\u001b[0m\u001b[0;34m[\u001b[0m\u001b[0;36m0\u001b[0m\u001b[0;34m]\u001b[0m\u001b[0;34m[\u001b[0m\u001b[0mk\u001b[0m\u001b[0;34m]\u001b[0m\u001b[0;34m:\u001b[0m\u001b[0;34m\u001b[0m\n",
       "\u001b[0;34m\u001b[0m            \u001b[0mcorrect_predictions\u001b[0m \u001b[0;34m+=\u001b[0m \u001b[0;36m1\u001b[0m\u001b[0;34m\u001b[0m\n",
       "\u001b[0;34m\u001b[0m            \u001b[0mrelevance_of_prediction_i\u001b[0m \u001b[0;34m=\u001b[0m \u001b[0;36m1\u001b[0m\u001b[0;34m\u001b[0m\n",
       "\u001b[0;34m\u001b[0m        \u001b[0mprecision_at_rank_i\u001b[0m \u001b[0;34m=\u001b[0m \u001b[0mcorrect_predictions\u001b[0m \u001b[0;34m/\u001b[0m \u001b[0mi\u001b[0m\u001b[0;34m\u001b[0m\n",
       "\u001b[0;34m\u001b[0m        \u001b[0mtotal_score\u001b[0m \u001b[0;34m+=\u001b[0m \u001b[0mprecision_at_rank_i\u001b[0m \u001b[0;34m*\u001b[0m \u001b[0mrelevance_of_prediction_i\u001b[0m\u001b[0;34m\u001b[0m\n",
       "\u001b[0;34m\u001b[0m        \u001b[0mi\u001b[0m \u001b[0;34m+=\u001b[0m \u001b[0;36m1\u001b[0m\u001b[0;34m\u001b[0m\n",
       "\u001b[0;34m\u001b[0m    \u001b[0;32mreturn\u001b[0m \u001b[0;36m1\u001b[0m \u001b[0;34m/\u001b[0m \u001b[0mqueries_with_target\u001b[0m \u001b[0;34m*\u001b[0m \u001b[0mtotal_score\u001b[0m\u001b[0;34m\u001b[0m\u001b[0;34m\u001b[0m\u001b[0m\n",
       "\u001b[0;31mFile:\u001b[0m      ~/landmark/kaggle-landmark-recognition-2020-1st-place/src/utils.py\n",
       "\u001b[0;31mType:\u001b[0m      function\n"
      ]
     },
     "metadata": {},
     "output_type": "display_data"
    }
   ],
   "source": [
    "??global_average_precision_score"
   ]
  },
  {
   "cell_type": "code",
   "execution_count": 23,
   "metadata": {},
   "outputs": [
    {
     "data": {
      "application/vnd.jupyter.widget-view+json": {
       "model_id": "ad92a4e187ab48139058ec013baab99c",
       "version_major": 2,
       "version_minor": 0
      },
      "text/plain": [
       "  0%|          | 0/4152 [00:00<?, ?it/s]"
      ]
     },
     "metadata": {},
     "output_type": "display_data"
    },
    {
     "name": "stdout",
     "output_type": "stream",
     "text": [
      "0.9341328663413578\n"
     ]
    }
   ],
   "source": [
    "# pick most similar images based on sum\n",
    "from collections import defaultdict\n",
    "\n",
    "vals_new = []\n",
    "labels_new = []\n",
    "\n",
    "for i in tqdm(range(len(vals))):\n",
    "    cnts = defaultdict(list)\n",
    "\n",
    "    x = 0\n",
    "    for j,l in enumerate(labels[i,:]):\n",
    "\n",
    "        curr = vals[i][j]\n",
    "\n",
    "        cnts[l].append(curr)\n",
    "\n",
    "    for k,v in cnts.items():\n",
    "        cnts[k] = np.sum(v)\n",
    "        \n",
    "    labels_new.append(max(cnts, key=cnts.get))\n",
    "    vals_new.append(cnts[labels_new[-1]])\n",
    "        \n",
    "l = np.array(labels_new).reshape(-1)\n",
    "v = np.array(vals_new).reshape(-1)\n",
    "\n",
    "# Next two lines are commented out, because we are ignoring landmarks.\n",
    "# val_score = comp_metric(targets, [l, v], ignore_non_landmarks=False)\n",
    "# print(val_score)\n",
    "val_score = comp_metric(targets, [l, v], ignore_non_landmarks=True)\n",
    "print(val_score)"
   ]
  },
  {
   "cell_type": "code",
   "execution_count": 24,
   "metadata": {},
   "outputs": [
    {
     "data": {
      "text/plain": [
       "<AxesSubplot:ylabel='Density'>"
      ]
     },
     "execution_count": 24,
     "metadata": {},
     "output_type": "execute_result"
    },
    {
     "data": {
      "image/png": "[encoded data removed]",
      "text/plain": [
       "<Figure size 432x288 with 1 Axes>"
      ]
     },
     "metadata": {
      "needs_background": "light"
     },
     "output_type": "display_data"
    }
   ],
   "source": [
    "sns.distplot(v)"
   ]
  },
  {
   "cell_type": "code",
   "execution_count": 25,
   "metadata": {},
   "outputs": [],
   "source": [
    "# Ignore the next block of code, because it uses `nonlandmark_embeddings`\n",
    "# vals_2, inds_2 = get_topk_cossim(val_embeddings, nonlandmark_embeddings, k=11)\n",
    "# # starting from index 1 on val as index 0 is the same image\n",
    "# vals_2 = vals_2[:,1:].mean(axis=1).detach().cpu().numpy()"
   ]
  },
  {
   "cell_type": "code",
   "execution_count": 26,
   "metadata": {},
   "outputs": [],
   "source": [
    "# penalize by C\n",
    "import scipy as sp\n",
    "\n",
    "l3 = pd.Series(l.copy()).reset_index(drop=True)\n",
    "v3 = v.copy()\n",
    "\n",
    "# Ignore the next block of code because it uses vals_2 which is calculated from\n",
    "# `nonlandmark_embeddings`. v3 depends on vals_2, so ignore code using v3 as well.\n",
    "# v3 -= 1*vals_2\n",
    "\n",
    "# val_score = comp_metric(out_val[\"targets\"][:], [l3[:], v3[:]], ignore_non_landmarks=False)\n",
    "# print(val_score)\n",
    "# val_score = comp_metric(out_val[\"targets\"][:], [l3[:], v3[:]], ignore_non_landmarks=True)\n",
    "# print(val_score)"
   ]
  },
  {
   "cell_type": "code",
   "execution_count": 27,
   "metadata": {},
   "outputs": [],
   "source": [
    "# Ignore next line because it uses v3\n",
    "# sns.distplot(v3)"
   ]
  }
 ],
 "metadata": {
  "kernelspec": {
   "display_name": "d2l:Python",
   "language": "python",
   "name": "conda-env-d2l-py"
  },
  "language_info": {
   "codemirror_mode": {
    "name": "ipython",
    "version": 3
   },
   "file_extension": ".py",
   "mimetype": "text/x-python",
   "name": "python",
   "nbconvert_exporter": "python",
   "pygments_lexer": "ipython3",
   "version": "3.9.9"
  }
 },
 "nbformat": 4,
 "nbformat_minor": 4
}
